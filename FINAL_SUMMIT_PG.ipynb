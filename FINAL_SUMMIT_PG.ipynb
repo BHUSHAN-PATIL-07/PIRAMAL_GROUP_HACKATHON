{
 "cells": [
  {
   "cell_type": "markdown",
   "metadata": {},
   "source": [
    "Import Required Library"
   ]
  },
  {
   "cell_type": "code",
   "execution_count": 1,
   "metadata": {},
   "outputs": [],
   "source": [
    "import pandas as pd\n",
    "import numpy as np\n",
    "from sklearn.ensemble import RandomForestClassifier\n",
    "from sklearn.model_selection import train_test_split, RandomizedSearchCV\n",
    "from sklearn.metrics import f1_score\n",
    "from imblearn.over_sampling import RandomOverSampler"
   ]
  },
  {
   "cell_type": "markdown",
   "metadata": {},
   "source": [
    "Import Train Dataset"
   ]
  },
  {
   "cell_type": "code",
   "execution_count": 2,
   "metadata": {},
   "outputs": [],
   "source": [
    "# Read the CSV file into a pandas DataFrame\n",
    "train=pd.read_csv(\"train.csv\")"
   ]
  },
  {
   "cell_type": "markdown",
   "metadata": {},
   "source": [
    "Import test Dataset"
   ]
  },
  {
   "cell_type": "code",
   "execution_count": 3,
   "metadata": {},
   "outputs": [],
   "source": [
    "test = pd.read_csv(\"test.csv\", encoding='latin1')"
   ]
  },
  {
   "cell_type": "markdown",
   "metadata": {},
   "source": [
    "For output .CSV file"
   ]
  },
  {
   "cell_type": "code",
   "execution_count": 4,
   "metadata": {},
   "outputs": [],
   "source": [
    "c1=test['CandidateID'].copy()"
   ]
  },
  {
   "cell_type": "markdown",
   "metadata": {},
   "source": [
    "# DATA PRECROSSING "
   ]
  },
  {
   "cell_type": "markdown",
   "metadata": {},
   "source": [
    "Creating a binary feature indicating if the residence and branch are in the same pincode"
   ]
  },
  {
   "cell_type": "code",
   "execution_count": 5,
   "metadata": {},
   "outputs": [],
   "source": [
    "train['Department'] = train['Department'].replace( 'Housing Finance','Affordable Housing')\n",
    "train['Department'] = train['Department'].replace( 'Personal Loans','Secured Business Loan')"
   ]
  },
  {
   "cell_type": "markdown",
   "metadata": {},
   "source": [
    "Creating a binary feature indicating if the residence and branch are in the same pincode"
   ]
  },
  {
   "cell_type": "code",
   "execution_count": 7,
   "metadata": {},
   "outputs": [],
   "source": [
    "\n",
    "# train['same_pincode'] = (train['Residential Pincode'] == train['Branch Pincode']).astype(int)\n",
    "train['residential_first_digit'] = train['Residential Pincode'].astype(str).str[0]\n",
    "train['branch_first_digit'] = train['Branch Pincode'].astype(str).str[0]\n",
    "\n",
    "# Compare the first digits and create a binary feature indicating if they match\n",
    "train['same_first_digit'] = (train['residential_first_digit'] == train['branch_first_digit']).astype(int)\n",
    "train.drop(['residential_first_digit','branch_first_digit'],axis=1,inplace=True)"
   ]
  },
  {
   "cell_type": "code",
   "execution_count": 81,
   "metadata": {},
   "outputs": [],
   "source": [
    "\n",
    "\n",
    "# train['same_pincode'] = (train['Residential Pincode'] == train['Branch Pincode']).astype(int)\n",
    "test['residential_first_digit'] = test['Residential Pincode'].astype(str).str[0]\n",
    "test['branch_first_digit'] = test['Branch Pincode'].astype(str).str[0]\n",
    "\n",
    "# Compare the first digits and create a binary feature indicating if they match\n",
    "test['same_first_digit'] = (test['residential_first_digit'] == test['branch_first_digit']).astype(int)\n",
    "test.drop(['residential_first_digit','branch_first_digit'],axis=1,inplace=True)"
   ]
  },
  {
   "cell_type": "markdown",
   "metadata": {},
   "source": []
  },
  {
   "cell_type": "code",
   "execution_count": 82,
   "metadata": {},
   "outputs": [],
   "source": [
    "category_ratios = train.groupby('Location Code')['Performance'].mean().reset_index()\n"
   ]
  },
  {
   "cell_type": "code",
   "execution_count": 83,
   "metadata": {},
   "outputs": [],
   "source": [
    "category_ratios1 = train.groupby('same_first_digit')['Performance'].sum().reset_index()"
   ]
  },
  {
   "cell_type": "code",
   "execution_count": 84,
   "metadata": {},
   "outputs": [],
   "source": [
    "category_ratio_dict = dict(zip(category_ratios['Location Code'], category_ratios['Performance']))\n",
    "\n",
    "# Replace each category with its corresponding ratio\n",
    "train['Location Code'] = train['Location Code'].map(category_ratio_dict)"
   ]
  },
  {
   "cell_type": "code",
   "execution_count": 85,
   "metadata": {},
   "outputs": [],
   "source": [
    "test['Location Code'] = test['Location Code'].map(category_ratio_dict)"
   ]
  },
  {
   "cell_type": "markdown",
   "metadata": {},
   "source": [
    "***Addressing the presence of redundant classes within columns by replacing them with more appropriate categories.***"
   ]
  },
  {
   "cell_type": "code",
   "execution_count": 86,
   "metadata": {},
   "outputs": [],
   "source": [
    "train['What was the average ticket size handled at your end in previous role ?'] = train['What was the average ticket size handled at your end in previous role ?'].replace(' INR 2L - INR 5L' , 'INR 2L - INR 5L')"
   ]
  },
  {
   "cell_type": "code",
   "execution_count": 87,
   "metadata": {},
   "outputs": [],
   "source": [
    "test['What was the average ticket size handled at your end in previous role ?'] = test['What was the average ticket size handled at your end in previous role ?'].replace('åÊINR 2L - INR 5L' , 'INR 2L - INR 5L')"
   ]
  },
  {
   "cell_type": "code",
   "execution_count": 88,
   "metadata": {},
   "outputs": [],
   "source": [
    "train.drop(['Name of your Previous Organization / Company','DOJ','Designation','CandidateID','How many Organization that you have worked before joining Piramal Finance ?'],axis=1,inplace=True)"
   ]
  },
  {
   "cell_type": "code",
   "execution_count": 89,
   "metadata": {},
   "outputs": [],
   "source": [
    "test.drop(['Name of your Previous Organization / Company','DOJ','Designation','CandidateID','How many Organization that you have worked before joining Piramal Finance ?'],axis=1,inplace=True)"
   ]
  },
  {
   "cell_type": "code",
   "execution_count": 90,
   "metadata": {},
   "outputs": [],
   "source": [
    "# Replace 'part' with 'Part' in the 'Category' column\n",
    "train['Have you Completed your Graduation ?'] = train['Have you Completed your Graduation ?'].replace('Part time', 'Part Time')"
   ]
  },
  {
   "cell_type": "code",
   "execution_count": 91,
   "metadata": {},
   "outputs": [],
   "source": [
    "# Replace 'part' with 'Part' in the 'Category' column\n",
    "test['Have you Completed your Graduation ?'] = test['Have you Completed your Graduation ?'].replace('Part time', 'Part Time')"
   ]
  },
  {
   "cell_type": "code",
   "execution_count": 92,
   "metadata": {},
   "outputs": [],
   "source": [
    "train['Highest Educational Qualification'] = train['Highest Educational Qualification'].replace('Graduate', 'Under Graduate')"
   ]
  },
  {
   "cell_type": "code",
   "execution_count": 93,
   "metadata": {},
   "outputs": [],
   "source": [
    "test['Highest Educational Qualification'] = test['Highest Educational Qualification'].replace('Graduate', 'Under Graduate')"
   ]
  },
  {
   "cell_type": "code",
   "execution_count": 94,
   "metadata": {},
   "outputs": [],
   "source": [
    "train['How did you come to know about the role at Piramal Finance ?']=train['How did you come to know about the role at Piramal Finance ?'].replace('others','Others')"
   ]
  },
  {
   "cell_type": "code",
   "execution_count": 95,
   "metadata": {},
   "outputs": [],
   "source": [
    "test['How did you come to know about the role at Piramal Finance ?']=test['How did you come to know about the role at Piramal Finance ?'].replace('others','Others')"
   ]
  },
  {
   "cell_type": "code",
   "execution_count": 96,
   "metadata": {},
   "outputs": [],
   "source": [
    "train['What was the average ticket size handled at your end in previous role ?'] = train['What was the average ticket size handled at your end in previous role ?'].replace('INR 5L - INR 10L', 'INR 5L - INR 15L')"
   ]
  },
  {
   "cell_type": "code",
   "execution_count": 97,
   "metadata": {},
   "outputs": [],
   "source": [
    "test['What was the average ticket size handled at your end in previous role ?'] = test['What was the average ticket size handled at your end in previous role ?'].replace('INR 5L - INR 10L', 'INR 5L - INR 15L')"
   ]
  },
  {
   "cell_type": "code",
   "execution_count": 98,
   "metadata": {},
   "outputs": [
    {
     "data": {
      "text/plain": [
       "Which Products you are selling in your pervious role ?\n",
       "Housing Loan                                                                                                  94\n",
       "Others;                                                                                                       88\n",
       "Housing Loans;                                                                                                78\n",
       "Housing Loans;MSME / SME Loans;                                                                               78\n",
       "Personal Loans;                                                                                               38\n",
       "Car Loans / Used Car Loans;                                                                                   28\n",
       "MSME / SME Loans;                                                                                             27\n",
       "Housing Loans;Others;                                                                                         24\n",
       "Used Car Loan                                                                                                 23\n",
       "Loan Against Property/ Secured Business Loan                                                                  23\n",
       "Others;Housing Loans;                                                                                         21\n",
       "Personal Loans;Others;                                                                                        20\n",
       "Unsecure Business Loan                                                                                        18\n",
       "Personal Loan                                                                                                 16\n",
       "Car Loans / Used Car Loans;Others;                                                                            15\n",
       "MSME / SME Loans;Personal Loans;                                                                              13\n",
       "MSME / SME Loans;Housing Loans;                                                                               12\n",
       "Others;FMCG;                                                                                                  11\n",
       "Others;MSME / SME Loans;                                                                                      11\n",
       "Current / Savings account [CASA];                                                                             11\n",
       "Others;Current / Saving account [CASA];                                                                        9\n",
       "Others;Personal Loans;                                                                                         8\n",
       "MSME / SME Loans;Others;                                                                                       8\n",
       "Housing Loans;Personal Loans;                                                                                  6\n",
       "Personal Loans;MSME / SME Loans;                                                                               5\n",
       "Others;Car Loans / Used Car Loans;                                                                             5\n",
       "Current / Saving account [CASA];Others;                                                                        4\n",
       "Current / Savings account [CASA];Others;                                                                       3\n",
       "Housing Loans;Car Loans / Used Car Loans;                                                                      3\n",
       "FMCG;                                                                                                          3\n",
       "Personal Loans;Housing Loans;                                                                                  2\n",
       "Current Account â Saving Account/Others                                                                      2\n",
       "Housing Loans;Current / Saving account [CASA];                                                                 2\n",
       "Others;Current / Savings account [CASA];Personal Loans;                                                        2\n",
       "Car Loans / Used Car Loans;Housing Loans;                                                                      2\n",
       "Current / Saving account [CASA];Personal Loans;                                                                2\n",
       "Housing Loans;Personal Loans;MSME / SME Loans;Car Loans / Used Car Loans;                                      2\n",
       "Housing Loans;MSME / SME Loans;Personal Loans;                                                                 2\n",
       "FMCG;Current / Saving account [CASA];                                                                          1\n",
       "Car Loans / Used Car Loans;Personal Loans;FMCG;MSME / SME Loans;                                               1\n",
       "Car Loans / Used Car Loans;Others;Personal Loans;                                                              1\n",
       "Personal Loans;Others;Current / Savings account [CASA];FMCG;                                                   1\n",
       "Housing Loans;FMCG;                                                                                            1\n",
       "Housing Loans;MSME / SME Loans;Others;                                                                         1\n",
       "Housing Loans;Others;Car Loans / Used Car Loans;                                                               1\n",
       "Current / Saving account [CASA];Housing Loans;                                                                 1\n",
       "Housing Loans;MSME / SME Loans;Personal Loans;FMCG;                                                            1\n",
       "Car Loans / Used Car Loans;MSME / SME Loans;                                                                   1\n",
       "MSME / SME Loans;Car Loans / Used Car Loans;                                                                   1\n",
       "FMCG;Others;                                                                                                   1\n",
       "MSME / SME Loans;Personal Loans;Others;                                                                        1\n",
       "Current / Savings account [CASA];Housing Loans;MSME / SME Loans;                                               1\n",
       "Current / Savings account [CASA];Housing Loans;Personal Loans;                                                 1\n",
       "MSME / SME Loans;Current / Saving account [CASA];                                                              1\n",
       "MSME / SME Loans;Housing Loans;Personal Loans;                                                                 1\n",
       "Current / Savings account [CASA];Personal Loans;Car Loans / Used Car Loans;MSME / SME Loans;                   1\n",
       "Personal Loans;Current / Saving account [CASA];                                                                1\n",
       "Current / Savings account [CASA];Housing Loans;MSME / SME Loans;Personal Loans;Car Loans / Used Car Loans;     1\n",
       "Name: count, dtype: int64"
      ]
     },
     "execution_count": 98,
     "metadata": {},
     "output_type": "execute_result"
    }
   ],
   "source": [
    "train['Which Products you are selling in your pervious role ?'].value_counts()"
   ]
  },
  {
   "cell_type": "markdown",
   "metadata": {},
   "source": [
    "***There are too many different categories (redundant ones), so they need to be consolidated in both the train and test datasets.***"
   ]
  },
  {
   "cell_type": "code",
   "execution_count": 99,
   "metadata": {},
   "outputs": [
    {
     "data": {
      "text/plain": [
       "Which Products you are selling in your pervious role ?\n",
       "Others;                                                                        27\n",
       "Housing Loan                                                                   25\n",
       "Housing Loans;                                                                 17\n",
       "Housing Loans;MSME / SME Loans;                                                 9\n",
       "MSME / SME Loans;                                                               8\n",
       "Personal Loans;Others;                                                          7\n",
       "Car Loans / Used Car Loans;                                                     7\n",
       "Others;FMCG;                                                                    6\n",
       "Others;Housing Loans;                                                           5\n",
       "Current / Savings account [CASA];                                               5\n",
       "Used Car Loan                                                                   5\n",
       "Personal Loans;                                                                 5\n",
       "Unsecure Business Loan                                                          5\n",
       "Others;Personal Loans;                                                          4\n",
       "Housing Loans;Others;                                                           4\n",
       "Car Loans / Used Car Loans;Others;                                              3\n",
       "MSME / SME Loans;Personal Loans;                                                3\n",
       "Others;Current / Saving account [CASA];                                         3\n",
       "Current / Saving account [CASA];Housing Loans;                                  3\n",
       "Loan Against Property/ Secured Business Loan                                    2\n",
       "MSME / SME Loans;Housing Loans;                                                 2\n",
       "Housing Loans;Personal Loans;                                                   2\n",
       "Current / Saving account [CASA];Others;                                         2\n",
       "Others;MSME / SME Loans;                                                        2\n",
       "Car Loans / Used Car Loans;Personal Loans;                                      2\n",
       "Housing Loans;Car Loans / Used Car Loans;                                       1\n",
       "Car Loans / Used Car Loans;FMCG;                                                1\n",
       "Current Account Ì¢åÛåÒ Saving Account/Others                                    1\n",
       "Housing Loans;MSME / SME Loans;Personal Loans;                                  1\n",
       "Car Loans / Used Car Loans;Housing Loans;                                       1\n",
       "Current / Savings account [CASA];Others;                                        1\n",
       "Car Loans / Used Car Loans;Housing Loans;Others;                                1\n",
       "Personal Loans;Car Loans / Used Car Loans;MSME / SME Loans;Housing Loans;       1\n",
       "Others;Current / Savings account [CASA];                                        1\n",
       "Housing Loans;MSME / SME Loans;Current / Savings account [CASA];                1\n",
       "Car Loans / Used Car Loans;Current / Savings account [CASA];Personal Loans;     1\n",
       "MSME / SME Loans;Personal Loans;Others;                                         1\n",
       "MSME / SME Loans;Others;                                                        1\n",
       "Housing Loans;FMCG;                                                             1\n",
       "FMCG;                                                                           1\n",
       "Current / Savings account [CASA];Personal Loans;Housing Loans;                  1\n",
       "Car Loans / Used Car Loans;Current / Saving account [CASA];                     1\n",
       "Personal Loan                                                                   1\n",
       "Personal Loans;Current / Saving account [CASA];                                 1\n",
       "MSME / SME Loans;Housing Loans;Personal Loans;Car Loans / Used Car Loans;       1\n",
       "Name: count, dtype: int64"
      ]
     },
     "execution_count": 99,
     "metadata": {},
     "output_type": "execute_result"
    }
   ],
   "source": [
    "test['Which Products you are selling in your pervious role ?'].value_counts()"
   ]
  },
  {
   "cell_type": "code",
   "execution_count": 100,
   "metadata": {},
   "outputs": [
    {
     "name": "stdout",
     "output_type": "stream",
     "text": [
      "Which Products you are selling in your pervious role ?\n",
      "Housing Loan                                                                                                  314\n",
      "Others                                                                                                        104\n",
      "Personal Loan                                                                                                  88\n",
      "MSME / SME Loan                                                                                                66\n",
      "Car Loan                                                                                                       66\n",
      "CASA Account                                                                                                   26\n",
      "Loan Against Property/ Secured Business Loan                                                                   23\n",
      "Business Loan                                                                                                  18\n",
      "Car Loans / Used Car Loans;Others;                                                                             15\n",
      "MSME / SME Loans;Housing Loans;                                                                                12\n",
      "Current / Savings account [CASA];Others;                                                                        3\n",
      "Housing Loans;Current / Saving account [CASA];                                                                  2\n",
      "Personal Loans;Current / Saving account [CASA];                                                                 1\n",
      "Current / Savings account [CASA];Housing Loans;MSME / SME Loans;Personal Loans;Car Loans / Used Car Loans;      1\n",
      "Name: count, dtype: int64\n"
     ]
    }
   ],
   "source": [
    "\n",
    "\n",
    "# Mapping dictionary for simplification\n",
    "mapping = {\n",
    "    'Housing Loan': 'Housing Loan',\n",
    "    'Others;': 'Others',\n",
    "    'Housing Loans;': 'Housing Loan',\n",
    "    'Housing Loans;MSME / SME Loans;': 'Housing Loan',\n",
    "    'Personal Loans;': 'Personal Loan',\n",
    "    'Car Loans / Used Car Loans;': 'Car Loan',\n",
    "    'MSME / SME Loans;': 'MSME / SME Loan',\n",
    "    'Housing Loans;Others;': 'Housing Loan',\n",
    "    'Used Car Loan': 'Car Loan',\n",
    "    'Loan Against Property/ Secured Business Loan''Loan Against Property''_Loan Against Property' : 'Loan Against Property',\n",
    "    'Others;Housing Loans;': 'Housing Loan',\n",
    "    'Personal Loans;Others;': 'Personal Loan',\n",
    "    'Unsecure Business Loan': 'Business Loan',\n",
    "    'Personal Loan': 'Personal Loan',\n",
    "    'Car Loans / Used Car Loans;Others;''Car Loans / Used Car Loans;FMCG;''Car Loans / Used Car Loans;Housing Loans;Others;' : 'Car Loan',\n",
    "    'MSME / SME Loans;Personal Loans;': 'MSME / SME Loan',\n",
    "    'MSME / SME Loans;Housing Loans;Car Loans / Used Car Loans;Personal Loans;  ': 'Housing Loan',\n",
    "    'Others;FMCG;': 'Others',\n",
    "    'Others;MSME / SME Loans;': 'MSME / SME Loan',\n",
    "    'Current / Savings account [CASA];': 'CASA Account',\n",
    "    'Others;Current / Saving account [CASA];': 'CASA Account',\n",
    "    'Others;Personal Loans;': 'Personal Loan',\n",
    "    'MSME / SME Loans;Others;': 'MSME / SME Loan',\n",
    "    'Housing Loans;Personal Loans;': 'Housing Loan',\n",
    "    'Personal Loans;MSME / SME Loans;': 'MSME / SME Loan',\n",
    "    'Others;Car Loans / Used Car Loans;': 'Car Loan',\n",
    "    'Current / Saving account [CASA];Others;': 'CASA Account',\n",
    "    'Current / Savings account [CASA];Others;''Others;Current / Savings account [CASA];' : 'CASA Account',\n",
    "    'Housing Loans;Car Loans / Used Car Loans;': 'Car Loan',\n",
    "    'FMCG;': 'Others',\n",
    "    'Personal Loans;Housing Loans;': 'Housing Loan',\n",
    "    'Current Account â\\x80\\x93 Saving Account/Others': 'CASA Account',\n",
    "    'Housing Loans;Current / Saving account [CASA];''Personal Loans;Car Loans / Used Car Loans;MSME / SME Loans;Housing Loans;''Personal Loans;Current / Saving account [CASA];': 'Housing Loan',\n",
    "    'Others;Current / Savings account [CASA];Personal Loans;': 'Personal Loan',\n",
    "    'Car Loans / Used Car Loans;Housing Loans;': 'Car Loan',\n",
    "    'Current / Saving account [CASA];Personal Loans;': 'Personal Loan',\n",
    "    'Housing Loans;Personal Loans;MSME / SME Loans;Car Loans / Used Car Loans;': 'Housing Loan',\n",
    "    'Housing Loans;MSME / SME Loans;Personal Loans;': 'Housing Loan',\n",
    "    'FMCG;Current / Saving account [CASA];': 'Others',\n",
    "    'Car Loans / Used Car Loans;Personal Loans;FMCG;MSME / SME Loans;': 'Car Loan',\n",
    "    'Car Loans / Used Car Loans;Others;Personal Loans;': 'Car Loan',\n",
    "    'Personal Loans;Others;Current / Savings account [CASA];FMCG;': 'Personal Loan',\n",
    "    'Housing Loans;FMCG;': 'Housing Loan',\n",
    "    'Housing Loans;MSME / SME Loans;Others;': 'Housing Loan',\n",
    "    'Housing Loans;Others;Car Loans / Used Car Loans;': 'Car Loan',\n",
    "    'Current / Saving account [CASA];Housing Loans;': 'Housing Loan',\n",
    "    'Housing Loans;MSME / SME Loans;Personal Loans;FMCG;': 'Housing Loan',\n",
    "    'Car Loans / Used Car Loans;MSME / SME Loans;': 'Car Loan',\n",
    "    'MSME / SME Loans;Car Loans / Used Car Loans;': 'Car Loan',\n",
    "    'FMCG;Others;': 'Others',\n",
    "    'MSME / SME Loans;Personal Loans;Others;': 'MSME / SME Loan',\n",
    "    'Current / Savings account [CASA];Housing Loans;MSME / SME Loans;': 'Housing Loan',\n",
    "    'Current / Savings account [CASA];Housing Loans;Personal Loans;': 'Housing Loan',\n",
    "    'MSME / SME Loans;Current / Saving account [CASA];': 'MSME / SME Loan',\n",
    "    'MSME / SME Loans;Housing Loans;Personal Loans;': 'Housing Loan',\n",
    "    'Current / Savings account [CASA];Personal Loans;Car Loans / Used Car Loans;MSME / SME Loans;': 'Personal Loan'\n",
    "}\n",
    "\n",
    "# Replace original categories with simplified categories\n",
    "train['Which Products you are selling in your pervious role ?'] = train['Which Products you are selling in your pervious role ?'].replace(mapping)\n",
    "\n",
    "# Print the frequency of each simplified category\n",
    "print(train['Which Products you are selling in your pervious role ?'].value_counts())\n"
   ]
  },
  {
   "cell_type": "code",
   "execution_count": 101,
   "metadata": {},
   "outputs": [
    {
     "name": "stdout",
     "output_type": "stream",
     "text": [
      "Which Products you are selling in your pervious role ?\n",
      "Housing Loan             316\n",
      "Others                   120\n",
      "Personal Loan             89\n",
      "Car Loan                  81\n",
      "MSME / SME Loan           66\n",
      "CASA Account              26\n",
      "Loan Against Property     23\n",
      "Business Loan             18\n",
      "Name: count, dtype: int64\n"
     ]
    }
   ],
   "source": [
    "mapping_products = {\n",
    "    'Housing Loan': 'Housing Loan',\n",
    "    'Others': 'Others',\n",
    "    'Personal Loan': 'Personal Loan',\n",
    "    'MSME / SME Loan': 'MSME / SME Loan',\n",
    "    'Car Loan': 'Car Loan',\n",
    "    'CASA Account': 'CASA Account',\n",
    "    'Loan Against Property/ Secured Business Loan': 'Loan Against Property',    \n",
    "    'Business Loan': 'Business Loan',\n",
    "    'Car Loans / Used Car Loans;Others;': 'Car Loan',\n",
    "    'MSME / SME Loans;Housing Loans;': 'Others',\n",
    "    'Current / Savings account [CASA];Others;': 'Others',\n",
    "    'Housing Loans;Current / Saving account [CASA];': 'Housing Loan',\n",
    "    'Personal Loans;Current / Saving account [CASA];': 'Personal Loan',\n",
    "    'Current / Savings account [CASA];Housing Loans;MSME / SME Loans;Personal Loans;Car Loans / Used Car Loans;': 'Others'\n",
    "}\n",
    "\n",
    "\n",
    "# Replace original categories with simplified categories\n",
    "train['Which Products you are selling in your pervious role ?'] = train['Which Products you are selling in your pervious role ?'].replace(mapping_products)\n",
    "\n",
    "# Print the frequency of each simplified category\n",
    "print(train['Which Products you are selling in your pervious role ?'].value_counts())"
   ]
  },
  {
   "cell_type": "code",
   "execution_count": 102,
   "metadata": {},
   "outputs": [],
   "source": [
    "# test['Which Products you are selling in your pervious role ?'] = test['Which Products you are selling in your pervious role ?'].replace(mapping)\n"
   ]
  },
  {
   "cell_type": "code",
   "execution_count": 103,
   "metadata": {},
   "outputs": [
    {
     "name": "stdout",
     "output_type": "stream",
     "text": [
      "Which Products you are selling in your pervious role ?\n",
      "Others;                                           27\n",
      "Housing Loan                                      25\n",
      "Housing Loans;                                    17\n",
      "Car Loan                                          10\n",
      "Housing Loans;MSME / SME Loans;                    9\n",
      "MSME / SME Loans;                                  8\n",
      "Others                                             8\n",
      "Car Loans / Used Car Loans;                        7\n",
      "Personal Loans;Others;                             7\n",
      "Others;FMCG;                                       6\n",
      "Others;Housing Loans;                              5\n",
      "Used Car Loan                                      5\n",
      "Unsecure Business Loan                             5\n",
      "Current / Savings account [CASA];                  5\n",
      "Personal Loans;                                    5\n",
      "Others;Personal Loans;                             4\n",
      "Housing Loans;Others;                              4\n",
      "Others;Current / Saving account [CASA];            3\n",
      "MSME / SME Loans;Personal Loans;                   3\n",
      "Current / Saving account [CASA];Housing Loans;     3\n",
      "Housing Loans;Personal Loans;                      2\n",
      "Current / Saving account [CASA];Others;            2\n",
      "Others;MSME / SME Loans;                           2\n",
      "Personal Loan                                      2\n",
      "Loan Against Property                              2\n",
      "MSME / SME Loans;Personal Loans;Others;            1\n",
      "FMCG;                                              1\n",
      "Housing Loans;FMCG;                                1\n",
      "MSME / SME Loans;Others;                           1\n",
      "Housing Loans;Car Loans / Used Car Loans;          1\n",
      "Car Loans / Used Car Loans;Housing Loans;          1\n",
      "Housing Loans;MSME / SME Loans;Personal Loans;     1\n",
      "Name: count, dtype: int64\n"
     ]
    }
   ],
   "source": [
    "mapping2 = {\n",
    "    'Car Loans / Used Car Loans;Others;': 'Car Loan',\n",
    "    'Car Loans / Used Car Loans;Personal Loans;': 'Car Loan',\n",
    "    'Loan Against Property/ Secured Business Loan': 'Loan Against Property',\n",
    "    'MSME / SME Loans;Housing Loans;': 'Others',\n",
    "    'Others;Current / Savings account [CASA];': 'Others',\n",
    "    'Car Loans / Used Car Loans;FMCG;': 'Car Loan',\n",
    "    'Current / Savings account [CASA];Others;': 'Others',\n",
    "    'Car Loans / Used Car Loans;Housing Loans;Others;': 'Car Loan',\n",
    "    'Personal Loans;Car Loans / Used Car Loans;MSME / SME Loans;Housing Loans;': 'Car Loan',\n",
    "    'Personal Loans;Current / Saving account [CASA];': 'Personal Loan',\n",
    "    'Car Loans / Used Car Loans;Current / Savings account [CASA];Personal Loans;': 'Car Loan',\n",
    "    'Current / Savings account [CASA];Personal Loans;Housing Loans;': 'Others',\n",
    "    'Car Loans / Used Car Loans;Current / Saving account [CASA];': 'Car Loan',\n",
    "    'Housing Loans;MSME / SME Loans;Current / Savings account [CASA];': 'Others',\n",
    "    'Current Account Ì¢åÛåÒ Saving Account/Others': 'Others',\n",
    "    'MSME / SME Loans;Housing Loans;Personal Loans;Car Loans / Used Car Loans;': 'Others'\n",
    "}\n",
    "test['Which Products you are selling in your pervious role ?'] = test['Which Products you are selling in your pervious role ?'].replace(mapping2)\n",
    "print(test['Which Products you are selling in your pervious role ?'].value_counts())"
   ]
  },
  {
   "cell_type": "code",
   "execution_count": 104,
   "metadata": {},
   "outputs": [],
   "source": [
    "test['Which Products you are selling in your pervious role ?'] = test['Which Products you are selling in your pervious role ?'].replace(mapping)"
   ]
  },
  {
   "cell_type": "markdown",
   "metadata": {},
   "source": [
    "***frequencies of different categories for each categorical column***"
   ]
  },
  {
   "cell_type": "code",
   "execution_count": 105,
   "metadata": {},
   "outputs": [
    {
     "name": "stdout",
     "output_type": "stream",
     "text": [
      "Column: Have you Completed your Graduation ?\n",
      "Have you Completed your Graduation ?\n",
      "Full Time    614\n",
      "Part Time     30\n",
      "Name: count, dtype: int64\n",
      "\n",
      "Column: Highest Educational Qualification\n",
      "Highest Educational Qualification\n",
      "Under Graduate     454\n",
      "Post Graduate      179\n",
      "Diploma Holders      6\n",
      "Others               5\n",
      "Name: count, dtype: int64\n",
      "\n",
      "Column: Previous Industry worked with [before joining Piramal]\n",
      "Previous Industry worked with [before joining Piramal]\n",
      "NBFC         380\n",
      "Banking      188\n",
      "Others        82\n",
      "others        66\n",
      "Insurance     15\n",
      "Non NBFC      14\n",
      "Name: count, dtype: int64\n",
      "\n",
      "Column: Average Incentive [per month] earned in your pervious company ?\n",
      "Average Incentive [per month] earned in your pervious company ?\n",
      "Above 10K       301\n",
      "3K-7K           209\n",
      "7K-10K          120\n",
      "Nil              72\n",
      "Less than 3K     43\n",
      "Name: count, dtype: int64\n",
      "\n",
      "Column: How did you come to know about the role at Piramal Finance ?\n",
      "How did you come to know about the role at Piramal Finance ?\n",
      "Referral                      426\n",
      "Consultant / Partners          83\n",
      "Others                         66\n",
      "Advertisement / Job Portal     61\n",
      "Direct Application             54\n",
      "External consultant            49\n",
      "Campus                          6\n",
      "Name: count, dtype: int64\n",
      "\n",
      "Column: Which Products you are selling in your pervious role ?\n",
      "Which Products you are selling in your pervious role ?\n",
      "Housing Loan             316\n",
      "Others                   120\n",
      "Personal Loan             89\n",
      "Car Loan                  81\n",
      "MSME / SME Loan           66\n",
      "CASA Account              26\n",
      "Loan Against Property     23\n",
      "Business Loan             18\n",
      "Name: count, dtype: int64\n",
      "\n",
      "Column: What was the average ticket size handled at your end in previous role ?\n",
      "What was the average ticket size handled at your end in previous role ?\n",
      "INR 15L and above    177\n",
      "INR 5L - INR 15L     141\n",
      "INR 2L - INR 5L      112\n",
      "INR 10L and above    108\n",
      "INR 50K - INR 2L      78\n",
      "Fresher               65\n",
      "INR 50K and below     64\n",
      "Name: count, dtype: int64\n",
      "\n",
      "Column: How many members are there in your family ?\n",
      "How many members are there in your family ?\n",
      "3 - 4 members        380\n",
      "5 & Above members    257\n",
      "1 - 2 members         84\n",
      "5 & above members     24\n",
      "Name: count, dtype: int64\n",
      "\n",
      "Column: Department\n",
      "Department\n",
      "Affordable Housing       283\n",
      "Mass Affluent Housing    172\n",
      "Sales                    148\n",
      "Secured Business Loan     65\n",
      "Business Loans            51\n",
      "Budget Housing            26\n",
      "Name: count, dtype: int64\n",
      "\n"
     ]
    }
   ],
   "source": [
    "categorical_cols = train.select_dtypes(include=['object']).columns\n",
    "\n",
    "for col in categorical_cols:\n",
    "    print(f\"Column: {col}\")\n",
    "    print(train[col].value_counts())\n",
    "    print()"
   ]
  },
  {
   "cell_type": "code",
   "execution_count": 106,
   "metadata": {},
   "outputs": [],
   "source": [
    "train['Highest Educational Qualification'] = train['Highest Educational Qualification'].replace('Diploma Holders', 'Others')"
   ]
  },
  {
   "cell_type": "markdown",
   "metadata": {},
   "source": [
    "***some statistical information about the training dataset***"
   ]
  },
  {
   "cell_type": "code",
   "execution_count": 107,
   "metadata": {},
   "outputs": [
    {
     "data": {
      "text/html": [
       "<div>\n",
       "<style scoped>\n",
       "    .dataframe tbody tr th:only-of-type {\n",
       "        vertical-align: middle;\n",
       "    }\n",
       "\n",
       "    .dataframe tbody tr th {\n",
       "        vertical-align: top;\n",
       "    }\n",
       "\n",
       "    .dataframe thead th {\n",
       "        text-align: right;\n",
       "    }\n",
       "</style>\n",
       "<table border=\"1\" class=\"dataframe\">\n",
       "  <thead>\n",
       "    <tr style=\"text-align: right;\">\n",
       "      <th></th>\n",
       "      <th>Total no of years Experience [before joining Piramal]</th>\n",
       "      <th>How many are earning family members ? [Other then yourself]2</th>\n",
       "      <th>How many members are dependent on you ?</th>\n",
       "      <th>Location Code</th>\n",
       "      <th>Residential Pincode</th>\n",
       "      <th>Branch Pincode</th>\n",
       "      <th>Performance</th>\n",
       "      <th>same_first_digit</th>\n",
       "    </tr>\n",
       "  </thead>\n",
       "  <tbody>\n",
       "    <tr>\n",
       "      <th>count</th>\n",
       "      <td>6.710000e+02</td>\n",
       "      <td>563.000000</td>\n",
       "      <td>745.000000</td>\n",
       "      <td>745.000000</td>\n",
       "      <td>745.000000</td>\n",
       "      <td>743.000000</td>\n",
       "      <td>745.000000</td>\n",
       "      <td>745.000000</td>\n",
       "    </tr>\n",
       "    <tr>\n",
       "      <th>mean</th>\n",
       "      <td>4.625170e+04</td>\n",
       "      <td>6282.300178</td>\n",
       "      <td>2.573154</td>\n",
       "      <td>0.395973</td>\n",
       "      <td>443646.022819</td>\n",
       "      <td>441313.527591</td>\n",
       "      <td>0.395973</td>\n",
       "      <td>0.958389</td>\n",
       "    </tr>\n",
       "    <tr>\n",
       "      <th>std</th>\n",
       "      <td>1.197978e+06</td>\n",
       "      <td>48964.725585</td>\n",
       "      <td>1.447218</td>\n",
       "      <td>0.296420</td>\n",
       "      <td>188146.764093</td>\n",
       "      <td>188283.541525</td>\n",
       "      <td>0.489387</td>\n",
       "      <td>0.199832</td>\n",
       "    </tr>\n",
       "    <tr>\n",
       "      <th>min</th>\n",
       "      <td>0.000000e+00</td>\n",
       "      <td>0.000000</td>\n",
       "      <td>0.000000</td>\n",
       "      <td>0.000000</td>\n",
       "      <td>101213.000000</td>\n",
       "      <td>110019.000000</td>\n",
       "      <td>0.000000</td>\n",
       "      <td>0.000000</td>\n",
       "    </tr>\n",
       "    <tr>\n",
       "      <th>25%</th>\n",
       "      <td>2.000000e+00</td>\n",
       "      <td>1.000000</td>\n",
       "      <td>2.000000</td>\n",
       "      <td>0.181818</td>\n",
       "      <td>274509.000000</td>\n",
       "      <td>273001.000000</td>\n",
       "      <td>0.000000</td>\n",
       "      <td>1.000000</td>\n",
       "    </tr>\n",
       "    <tr>\n",
       "      <th>50%</th>\n",
       "      <td>4.000000e+00</td>\n",
       "      <td>1.000000</td>\n",
       "      <td>2.000000</td>\n",
       "      <td>0.384615</td>\n",
       "      <td>500008.000000</td>\n",
       "      <td>500014.000000</td>\n",
       "      <td>0.000000</td>\n",
       "      <td>1.000000</td>\n",
       "    </tr>\n",
       "    <tr>\n",
       "      <th>75%</th>\n",
       "      <td>6.000000e+00</td>\n",
       "      <td>2.000000</td>\n",
       "      <td>3.000000</td>\n",
       "      <td>0.538462</td>\n",
       "      <td>605003.000000</td>\n",
       "      <td>602552.000000</td>\n",
       "      <td>1.000000</td>\n",
       "      <td>1.000000</td>\n",
       "    </tr>\n",
       "    <tr>\n",
       "      <th>max</th>\n",
       "      <td>3.103202e+07</td>\n",
       "      <td>600000.000000</td>\n",
       "      <td>10.000000</td>\n",
       "      <td>1.000000</td>\n",
       "      <td>847224.000000</td>\n",
       "      <td>842002.000000</td>\n",
       "      <td>1.000000</td>\n",
       "      <td>1.000000</td>\n",
       "    </tr>\n",
       "  </tbody>\n",
       "</table>\n",
       "</div>"
      ],
      "text/plain": [
       "       Total no of years Experience [before joining Piramal]  \\\n",
       "count                                       6.710000e+02       \n",
       "mean                                        4.625170e+04       \n",
       "std                                         1.197978e+06       \n",
       "min                                         0.000000e+00       \n",
       "25%                                         2.000000e+00       \n",
       "50%                                         4.000000e+00       \n",
       "75%                                         6.000000e+00       \n",
       "max                                         3.103202e+07       \n",
       "\n",
       "       How many are earning family members ? [Other then yourself]2  \\\n",
       "count                                         563.000000              \n",
       "mean                                         6282.300178              \n",
       "std                                         48964.725585              \n",
       "min                                             0.000000              \n",
       "25%                                             1.000000              \n",
       "50%                                             1.000000              \n",
       "75%                                             2.000000              \n",
       "max                                        600000.000000              \n",
       "\n",
       "       How many members are dependent on you ?  Location Code  \\\n",
       "count                               745.000000     745.000000   \n",
       "mean                                  2.573154       0.395973   \n",
       "std                                   1.447218       0.296420   \n",
       "min                                   0.000000       0.000000   \n",
       "25%                                   2.000000       0.181818   \n",
       "50%                                   2.000000       0.384615   \n",
       "75%                                   3.000000       0.538462   \n",
       "max                                  10.000000       1.000000   \n",
       "\n",
       "       Residential Pincode  Branch Pincode  Performance  same_first_digit  \n",
       "count           745.000000      743.000000   745.000000        745.000000  \n",
       "mean         443646.022819   441313.527591     0.395973          0.958389  \n",
       "std          188146.764093   188283.541525     0.489387          0.199832  \n",
       "min          101213.000000   110019.000000     0.000000          0.000000  \n",
       "25%          274509.000000   273001.000000     0.000000          1.000000  \n",
       "50%          500008.000000   500014.000000     0.000000          1.000000  \n",
       "75%          605003.000000   602552.000000     1.000000          1.000000  \n",
       "max          847224.000000   842002.000000     1.000000          1.000000  "
      ]
     },
     "execution_count": 107,
     "metadata": {},
     "output_type": "execute_result"
    }
   ],
   "source": [
    "train.describe()"
   ]
  },
  {
   "cell_type": "markdown",
   "metadata": {},
   "source": [
    "***Handling the missing values in the categorical columns and Droping the columns***"
   ]
  },
  {
   "cell_type": "code",
   "execution_count": 108,
   "metadata": {},
   "outputs": [],
   "source": [
    "\n",
    "train['Have you Completed your Graduation ?'] = train['Have you Completed your Graduation ?'].fillna('Full Time')\n"
   ]
  },
  {
   "cell_type": "code",
   "execution_count": 109,
   "metadata": {},
   "outputs": [],
   "source": [
    "test['Have you Completed your Graduation ?'] = test['Have you Completed your Graduation ?'].fillna('Full Time')"
   ]
  },
  {
   "cell_type": "code",
   "execution_count": 110,
   "metadata": {},
   "outputs": [],
   "source": [
    "train['Highest Educational Qualification']=train['Highest Educational Qualification'].fillna('Under Graduate')"
   ]
  },
  {
   "cell_type": "code",
   "execution_count": 111,
   "metadata": {},
   "outputs": [],
   "source": [
    "test['Highest Educational Qualification']=test['Highest Educational Qualification'].fillna('Under Graduate')"
   ]
  },
  {
   "cell_type": "code",
   "execution_count": 112,
   "metadata": {},
   "outputs": [],
   "source": [
    "train.drop(['Location Code','Residential Pincode','Branch Pincode'],axis=1,inplace=True)"
   ]
  },
  {
   "cell_type": "code",
   "execution_count": 113,
   "metadata": {},
   "outputs": [],
   "source": [
    "test.drop(['Location Code','Residential Pincode','Branch Pincode'],axis=1,inplace=True)"
   ]
  },
  {
   "cell_type": "code",
   "execution_count": 114,
   "metadata": {},
   "outputs": [],
   "source": [
    "# Calculate the median of the column\n",
    "median_value = train['Total no of years Experience [before joining Piramal]'].median()\n",
    "\n",
    "# Replace values greater than 50 with the median\n",
    "train.loc[train['Total no of years Experience [before joining Piramal]'] > 50, 'Total no of years Experience [before joining Piramal]'] = median_value"
   ]
  },
  {
   "cell_type": "code",
   "execution_count": 115,
   "metadata": {},
   "outputs": [],
   "source": [
    "# Calculate the median of the column\n",
    "median_value = train['Total no of years Experience [before joining Piramal]'].median()\n",
    "\n",
    "# Replace values greater than 50 with the median\n",
    "test.loc[test['Total no of years Experience [before joining Piramal]'] > 50, 'Total no of years Experience [before joining Piramal]'] = median_value"
   ]
  },
  {
   "cell_type": "code",
   "execution_count": 116,
   "metadata": {},
   "outputs": [],
   "source": [
    "\n",
    "train['Total no of years Experience [before joining Piramal]'] = train['Total no of years Experience [before joining Piramal]'].fillna(0)\n"
   ]
  },
  {
   "cell_type": "code",
   "execution_count": 117,
   "metadata": {},
   "outputs": [],
   "source": [
    "\n",
    "test['Total no of years Experience [before joining Piramal]'] = test['Total no of years Experience [before joining Piramal]'].fillna(0)\n"
   ]
  },
  {
   "cell_type": "code",
   "execution_count": 118,
   "metadata": {},
   "outputs": [],
   "source": [
    "median_value = train['How many are earning family members ? [Other then yourself]2'].median()\n",
    "# Replace values greater than 50 with the median\n",
    "train.loc[train['How many are earning family members ? [Other then yourself]2'] > 5,'How many are earning family members ? [Other then yourself]2'] = median_value"
   ]
  },
  {
   "cell_type": "code",
   "execution_count": 119,
   "metadata": {},
   "outputs": [],
   "source": [
    "median_value = train['How many are earning family members ? [Other then yourself]2'].median()\n",
    "# Replace values greater than 50 with the median\n",
    "test.loc[test['How many are earning family members ? [Other then yourself]2'] > 5,'How many are earning family members ? [Other then yourself]2'] = median_value"
   ]
  },
  {
   "cell_type": "code",
   "execution_count": 120,
   "metadata": {},
   "outputs": [],
   "source": [
    "train['How many are earning family members ? [Other then yourself]2'] =train['How many are earning family members ? [Other then yourself]2'].fillna(median_value)"
   ]
  },
  {
   "cell_type": "code",
   "execution_count": 121,
   "metadata": {},
   "outputs": [],
   "source": [
    "test['How many are earning family members ? [Other then yourself]2'] =test['How many are earning family members ? [Other then yourself]2'].fillna(median_value)"
   ]
  },
  {
   "cell_type": "code",
   "execution_count": 122,
   "metadata": {},
   "outputs": [],
   "source": [
    "train['Which Products you are selling in your pervious role ?']=train['Which Products you are selling in your pervious role ?'].fillna('Others')"
   ]
  },
  {
   "cell_type": "code",
   "execution_count": 123,
   "metadata": {},
   "outputs": [],
   "source": [
    "test['Which Products you are selling in your pervious role ?']=test['Which Products you are selling in your pervious role ?'].fillna('Others')"
   ]
  },
  {
   "cell_type": "code",
   "execution_count": 124,
   "metadata": {},
   "outputs": [
    {
     "name": "stdout",
     "output_type": "stream",
     "text": [
      "<class 'pandas.core.frame.DataFrame'>\n",
      "RangeIndex: 745 entries, 0 to 744\n",
      "Data columns (total 14 columns):\n",
      " #   Column                                                                   Non-Null Count  Dtype  \n",
      "---  ------                                                                   --------------  -----  \n",
      " 0   Have you Completed your Graduation ?                                     745 non-null    object \n",
      " 1   Highest Educational Qualification                                        745 non-null    object \n",
      " 2   Total no of years Experience [before joining Piramal]                    745 non-null    float64\n",
      " 3   Previous Industry worked with [before joining Piramal]                   745 non-null    object \n",
      " 4   Average Incentive [per month] earned in your pervious company ?          745 non-null    object \n",
      " 5   How did you come to know about the role at Piramal Finance ?             745 non-null    object \n",
      " 6   Which Products you are selling in your pervious role ?                   745 non-null    object \n",
      " 7   What was the average ticket size handled at your end in previous role ?  745 non-null    object \n",
      " 8   How many members are there in your family ?                              745 non-null    object \n",
      " 9   How many are earning family members ? [Other then yourself]2             745 non-null    float64\n",
      " 10  How many members are dependent on you ?                                  745 non-null    int64  \n",
      " 11  Department                                                               745 non-null    object \n",
      " 12  Performance                                                              745 non-null    int64  \n",
      " 13  same_first_digit                                                         745 non-null    int32  \n",
      "dtypes: float64(2), int32(1), int64(2), object(9)\n",
      "memory usage: 78.7+ KB\n"
     ]
    }
   ],
   "source": [
    "train.info()"
   ]
  },
  {
   "cell_type": "markdown",
   "metadata": {},
   "source": [
    "***Dropping the unnecessary columns from the dataset***"
   ]
  },
  {
   "cell_type": "code",
   "execution_count": 125,
   "metadata": {},
   "outputs": [],
   "source": [
    "train.drop('How did you come to know about the role at Piramal Finance ?',axis=1,inplace=True)\n",
    "test.drop('How did you come to know about the role at Piramal Finance ?',axis=1,inplace=True)\n"
   ]
  },
  {
   "cell_type": "code",
   "execution_count": 126,
   "metadata": {},
   "outputs": [],
   "source": [
    "\n",
    "train.drop('Previous Industry worked with [before joining Piramal]',axis=1,inplace=True)\n",
    "test.drop('Previous Industry worked with [before joining Piramal]',axis=1,inplace=True)"
   ]
  },
  {
   "cell_type": "markdown",
   "metadata": {},
   "source": [
    "Displaying the list of categorical column names"
   ]
  },
  {
   "cell_type": "code",
   "execution_count": 127,
   "metadata": {},
   "outputs": [],
   "source": [
    "train.to_csv('TRAIN_FINAL.CSV', index=True, encoding='utf-8')\n"
   ]
  },
  {
   "cell_type": "code",
   "execution_count": 128,
   "metadata": {},
   "outputs": [
    {
     "name": "stdout",
     "output_type": "stream",
     "text": [
      "Categorical columns: ['Have you Completed your Graduation ?', 'Highest Educational Qualification', 'Average Incentive [per month] earned in your pervious company ?', 'Which Products you are selling in your pervious role ?', 'What was the average ticket size handled at your end in previous role ?', 'How many members are there in your family ?', 'Department']\n"
     ]
    }
   ],
   "source": [
    "cat_cols = []\n",
    "\n",
    "# Iterate over each column in the DataFrame\n",
    "for col in train.columns:\n",
    "  \n",
    "    if train[col].dtype == 'object' :\n",
    "    \n",
    "        cat_cols.append(col)\n",
    "\n",
    "\n",
    "print(\"Categorical columns:\", cat_cols)"
   ]
  },
  {
   "cell_type": "markdown",
   "metadata": {},
   "source": [
    "Generates dummy variables for categorical columns in the 'train' DataFrame, utilizing the 'cat_cols' list to specify which columns to encode. The resulting DataFrame 'train_e' contains the original columns along with the encoded categorical variables."
   ]
  },
  {
   "cell_type": "code",
   "execution_count": 129,
   "metadata": {},
   "outputs": [],
   "source": [
    "train_e = pd.get_dummies(train, columns=cat_cols)\n"
   ]
  },
  {
   "cell_type": "code",
   "execution_count": 130,
   "metadata": {},
   "outputs": [],
   "source": [
    "test_e = pd.get_dummies(test, columns=cat_cols)"
   ]
  },
  {
   "cell_type": "code",
   "execution_count": 131,
   "metadata": {},
   "outputs": [],
   "source": [
    "# Get boolean columns\n",
    "boolean_cols = train_e.select_dtypes(include=bool).columns.tolist()\n",
    "\n",
    "# Convert boolean columns to 0/1\n",
    "train_e[boolean_cols] = train_e[boolean_cols].astype(int)"
   ]
  },
  {
   "cell_type": "code",
   "execution_count": 132,
   "metadata": {},
   "outputs": [],
   "source": [
    "# Get boolean columns\n",
    "boolean_cols = test_e.select_dtypes(include=bool).columns.tolist()\n",
    "\n",
    "# Convert boolean columns to 0/1\n",
    "test_e[boolean_cols] = test_e[boolean_cols].astype(int)"
   ]
  },
  {
   "cell_type": "markdown",
   "metadata": {},
   "source": [
    "SPLIT THE DATA INTO TRAIN AND TEST FORM  THE TRAIN DATA"
   ]
  },
  {
   "cell_type": "code",
   "execution_count": 133,
   "metadata": {},
   "outputs": [],
   "source": [
    "y=train_e['Performance'].copy()"
   ]
  },
  {
   "cell_type": "code",
   "execution_count": 134,
   "metadata": {},
   "outputs": [],
   "source": [
    "X=train_e.drop('Performance',axis=1)"
   ]
  },
  {
   "cell_type": "code",
   "execution_count": 135,
   "metadata": {},
   "outputs": [
    {
     "name": "stdout",
     "output_type": "stream",
     "text": [
      "Categorical columns: []\n"
     ]
    }
   ],
   "source": [
    "cat_cols = []\n",
    "\n",
    "# Iterate over each column in the DataFrame\n",
    "for col in train_e.columns:\n",
    "    # Check if the column's data type is object or category\n",
    "    if train_e[col].dtype == 'object' :\n",
    "        # If yes, add the column name to the list of categorical columns\n",
    "        cat_cols.append(col)\n",
    "\n",
    "# Display the list of categorical column names\n",
    "print(\"Categorical columns:\", cat_cols)"
   ]
  },
  {
   "cell_type": "markdown",
   "metadata": {},
   "source": [
    "***This code implements random oversampling on the training data to address class imbalance. It generates synthetic samples for the minority class(es) to balance the class distribution.***"
   ]
  },
  {
   "cell_type": "code",
   "execution_count": 136,
   "metadata": {},
   "outputs": [],
   "source": [
    "from imblearn.over_sampling import RandomOverSampler\n",
    "\n",
    "# Instantiate the RandomOverSampler\n",
    "oversampler = RandomOverSampler(random_state=42)\n",
    "\n",
    "# Perform oversampling on the training data\n",
    "X1, y1 = oversampler.fit_resample(X, y)"
   ]
  },
  {
   "cell_type": "markdown",
   "metadata": {},
   "source": [
    "***split the data into training and testing sets (80% train, 20% test)***"
   ]
  },
  {
   "cell_type": "code",
   "execution_count": 137,
   "metadata": {},
   "outputs": [],
   "source": [
    "from sklearn.model_selection import train_test_split\n",
    "X_train, X_test, y_train, y_test = train_test_split(X1, y1, test_size=0.2)"
   ]
  },
  {
   "cell_type": "markdown",
   "metadata": {},
   "source": [
    "Information about X_train Data"
   ]
  },
  {
   "cell_type": "code",
   "execution_count": 138,
   "metadata": {},
   "outputs": [
    {
     "name": "stdout",
     "output_type": "stream",
     "text": [
      "<class 'pandas.core.frame.DataFrame'>\n",
      "Index: 720 entries, 653 to 427\n",
      "Data columns (total 39 columns):\n",
      " #   Column                                                                                     Non-Null Count  Dtype  \n",
      "---  ------                                                                                     --------------  -----  \n",
      " 0   Total no of years Experience [before joining Piramal]                                      720 non-null    float64\n",
      " 1   How many are earning family members ? [Other then yourself]2                               720 non-null    float64\n",
      " 2   How many members are dependent on you ?                                                    720 non-null    int64  \n",
      " 3   same_first_digit                                                                           720 non-null    int32  \n",
      " 4   Have you Completed your Graduation ?_Full Time                                             720 non-null    int32  \n",
      " 5   Have you Completed your Graduation ?_Part Time                                             720 non-null    int32  \n",
      " 6   Highest Educational Qualification_Others                                                   720 non-null    int32  \n",
      " 7   Highest Educational Qualification_Post Graduate                                            720 non-null    int32  \n",
      " 8   Highest Educational Qualification_Under Graduate                                           720 non-null    int32  \n",
      " 9   Average Incentive [per month] earned in your pervious company ?_3K-7K                      720 non-null    int32  \n",
      " 10  Average Incentive [per month] earned in your pervious company ?_7K-10K                     720 non-null    int32  \n",
      " 11  Average Incentive [per month] earned in your pervious company ?_Above 10K                  720 non-null    int32  \n",
      " 12  Average Incentive [per month] earned in your pervious company ?_Less than 3K               720 non-null    int32  \n",
      " 13  Average Incentive [per month] earned in your pervious company ?_Nil                        720 non-null    int32  \n",
      " 14  Which Products you are selling in your pervious role ?_Business Loan                       720 non-null    int32  \n",
      " 15  Which Products you are selling in your pervious role ?_CASA Account                        720 non-null    int32  \n",
      " 16  Which Products you are selling in your pervious role ?_Car Loan                            720 non-null    int32  \n",
      " 17  Which Products you are selling in your pervious role ?_Housing Loan                        720 non-null    int32  \n",
      " 18  Which Products you are selling in your pervious role ?_Loan Against Property               720 non-null    int32  \n",
      " 19  Which Products you are selling in your pervious role ?_MSME / SME Loan                     720 non-null    int32  \n",
      " 20  Which Products you are selling in your pervious role ?_Others                              720 non-null    int32  \n",
      " 21  Which Products you are selling in your pervious role ?_Personal Loan                       720 non-null    int32  \n",
      " 22  What was the average ticket size handled at your end in previous role ?_Fresher            720 non-null    int32  \n",
      " 23  What was the average ticket size handled at your end in previous role ?_INR 10L and above  720 non-null    int32  \n",
      " 24  What was the average ticket size handled at your end in previous role ?_INR 15L and above  720 non-null    int32  \n",
      " 25  What was the average ticket size handled at your end in previous role ?_INR 2L - INR 5L    720 non-null    int32  \n",
      " 26  What was the average ticket size handled at your end in previous role ?_INR 50K - INR 2L   720 non-null    int32  \n",
      " 27  What was the average ticket size handled at your end in previous role ?_INR 50K and below  720 non-null    int32  \n",
      " 28  What was the average ticket size handled at your end in previous role ?_INR 5L - INR 15L   720 non-null    int32  \n",
      " 29  How many members are there in your family ?_1 - 2 members                                  720 non-null    int32  \n",
      " 30  How many members are there in your family ?_3 - 4 members                                  720 non-null    int32  \n",
      " 31  How many members are there in your family ?_5 & Above members                              720 non-null    int32  \n",
      " 32  How many members are there in your family ?_5 & above members                              720 non-null    int32  \n",
      " 33  Department_Affordable Housing                                                              720 non-null    int32  \n",
      " 34  Department_Budget Housing                                                                  720 non-null    int32  \n",
      " 35  Department_Business Loans                                                                  720 non-null    int32  \n",
      " 36  Department_Mass Affluent Housing                                                           720 non-null    int32  \n",
      " 37  Department_Sales                                                                           720 non-null    int32  \n",
      " 38  Department_Secured Business Loan                                                           720 non-null    int32  \n",
      "dtypes: float64(2), int32(36), int64(1)\n",
      "memory usage: 123.8 KB\n"
     ]
    }
   ],
   "source": [
    "X_train.info()"
   ]
  },
  {
   "cell_type": "markdown",
   "metadata": {},
   "source": [
    "# Find Best Parameters and the Best Score"
   ]
  },
  {
   "cell_type": "code",
   "execution_count": null,
   "metadata": {},
   "outputs": [
    {
     "name": "stdout",
     "output_type": "stream",
     "text": [
      "Fitting 20 folds for each of 400 candidates, totalling 8000 fits\n"
     ]
    },
    {
     "name": "stderr",
     "output_type": "stream",
     "text": [
      "c:\\Users\\DELL\\AppData\\Local\\Programs\\Python\\Python312\\Lib\\site-packages\\sklearn\\model_selection\\_validation.py:540: FitFailedWarning: \n",
      "1480 fits failed out of a total of 8000.\n",
      "The score on these train-test partitions for these parameters will be set to nan.\n",
      "If these failures are not expected, you can try to debug them by setting error_score='raise'.\n",
      "\n",
      "Below are more details about the failures:\n",
      "--------------------------------------------------------------------------------\n",
      "745 fits failed with the following error:\n",
      "Traceback (most recent call last):\n",
      "  File \"c:\\Users\\DELL\\AppData\\Local\\Programs\\Python\\Python312\\Lib\\site-packages\\sklearn\\model_selection\\_validation.py\", line 888, in _fit_and_score\n",
      "    estimator.fit(X_train, y_train, **fit_params)\n",
      "  File \"c:\\Users\\DELL\\AppData\\Local\\Programs\\Python\\Python312\\Lib\\site-packages\\sklearn\\base.py\", line 1466, in wrapper\n",
      "    estimator._validate_params()\n",
      "  File \"c:\\Users\\DELL\\AppData\\Local\\Programs\\Python\\Python312\\Lib\\site-packages\\sklearn\\base.py\", line 666, in _validate_params\n",
      "    validate_parameter_constraints(\n",
      "  File \"c:\\Users\\DELL\\AppData\\Local\\Programs\\Python\\Python312\\Lib\\site-packages\\sklearn\\utils\\_param_validation.py\", line 95, in validate_parameter_constraints\n",
      "    raise InvalidParameterError(\n",
      "sklearn.utils._param_validation.InvalidParameterError: The 'max_features' parameter of RandomForestClassifier must be an int in the range [1, inf), a float in the range (0.0, 1.0], a str among {'log2', 'sqrt'} or None. Got 'auto' instead.\n",
      "\n",
      "--------------------------------------------------------------------------------\n",
      "735 fits failed with the following error:\n",
      "Traceback (most recent call last):\n",
      "  File \"c:\\Users\\DELL\\AppData\\Local\\Programs\\Python\\Python312\\Lib\\site-packages\\sklearn\\model_selection\\_validation.py\", line 888, in _fit_and_score\n",
      "    estimator.fit(X_train, y_train, **fit_params)\n",
      "  File \"c:\\Users\\DELL\\AppData\\Local\\Programs\\Python\\Python312\\Lib\\site-packages\\sklearn\\base.py\", line 1466, in wrapper\n",
      "    estimator._validate_params()\n",
      "  File \"c:\\Users\\DELL\\AppData\\Local\\Programs\\Python\\Python312\\Lib\\site-packages\\sklearn\\base.py\", line 666, in _validate_params\n",
      "    validate_parameter_constraints(\n",
      "  File \"c:\\Users\\DELL\\AppData\\Local\\Programs\\Python\\Python312\\Lib\\site-packages\\sklearn\\utils\\_param_validation.py\", line 95, in validate_parameter_constraints\n",
      "    raise InvalidParameterError(\n",
      "sklearn.utils._param_validation.InvalidParameterError: The 'max_features' parameter of RandomForestClassifier must be an int in the range [1, inf), a float in the range (0.0, 1.0], a str among {'sqrt', 'log2'} or None. Got 'auto' instead.\n",
      "\n",
      "  warnings.warn(some_fits_failed_message, FitFailedWarning)\n",
      "c:\\Users\\DELL\\AppData\\Local\\Programs\\Python\\Python312\\Lib\\site-packages\\sklearn\\model_selection\\_search.py:1102: UserWarning: One or more of the test scores are non-finite: [0.72479795 0.67053994 0.69513571        nan 0.72040767 0.70740552\n",
      "        nan 0.70346506 0.71795098        nan 0.66927079        nan\n",
      "        nan        nan 0.68101969 0.70975225 0.6520588  0.728755\n",
      " 0.71620339        nan 0.7001875  0.72169269 0.69968143 0.72015863\n",
      " 0.71265972 0.64834391 0.70150158 0.73310321 0.65929401 0.69295112\n",
      " 0.64971886 0.73322551 0.71996524 0.71028142 0.70896556 0.65615677\n",
      "        nan 0.71095945 0.66642646 0.69169953 0.7118562  0.65703153\n",
      " 0.67394462 0.69319489 0.706175   0.70942111 0.71421336 0.71331633\n",
      "        nan 0.69671062        nan 0.70743545 0.69401448        nan\n",
      " 0.69620852 0.71915342        nan 0.71635012 0.72446358 0.70418347\n",
      " 0.71449631 0.71600553 0.71833674 0.72447889 0.70481692 0.72474601\n",
      "        nan 0.70320627 0.69166043        nan 0.68725535 0.72360961\n",
      " 0.6942883  0.7047181  0.71808731        nan 0.72357396 0.71633252\n",
      " 0.67903943 0.70143166        nan 0.68497281        nan 0.66930211\n",
      "        nan 0.70450068        nan 0.7101833  0.70346506 0.68299054\n",
      " 0.6560081  0.71486079 0.70821968 0.68106293 0.71370193 0.71461902\n",
      " 0.67332082 0.6939646  0.66222818 0.69522981 0.71583976 0.66642646\n",
      " 0.64911971 0.69617661 0.70975225        nan 0.71172543 0.70149075\n",
      " 0.72486747 0.71749589 0.71537906 0.71778153        nan 0.70817168\n",
      " 0.69751495        nan 0.67721374        nan 0.68378359 0.67761042\n",
      " 0.70167681 0.69295112 0.71386344        nan        nan 0.71327671\n",
      " 0.70679843 0.65064204 0.67648767 0.70277147 0.69586253        nan\n",
      " 0.7032409         nan 0.71117141 0.65666853 0.65122833 0.69843244\n",
      " 0.65136131 0.67698485 0.69883696 0.72456225 0.71750111        nan\n",
      " 0.65938693        nan 0.70915335 0.66660572 0.71758091        nan\n",
      " 0.66932534        nan 0.71447251        nan 0.67691979 0.69147343\n",
      " 0.71283283 0.69617661 0.70764268 0.69431659        nan 0.65093544\n",
      " 0.7042526  0.70740893 0.67053994 0.70398566 0.65124549 0.69751965\n",
      " 0.70472163 0.72605233 0.71375249        nan 0.7281951  0.70357058\n",
      " 0.67940758 0.70857945 0.71915295 0.72484867 0.71356851 0.64232383\n",
      " 0.71346165        nan 0.69295112 0.67074255 0.70518214 0.68595704\n",
      " 0.70507596 0.69620852 0.7278529         nan 0.68533723 0.71631808\n",
      " 0.71631431 0.71322072 0.66891084 0.7136269  0.66530857 0.71309402\n",
      " 0.71490965 0.71547587 0.70167681 0.66932534 0.71454586 0.73025956\n",
      "        nan 0.67825137 0.70963443 0.7303292  0.67947243 0.68982423\n",
      " 0.67063009 0.71676909        nan 0.66668511 0.69457725        nan\n",
      " 0.67648767 0.71318745 0.68725535        nan 0.71866435        nan\n",
      " 0.69910511 0.69474916        nan 0.69488718 0.71767634 0.69829432\n",
      " 0.72919893        nan 0.65207208 0.70350308 0.69786539        nan\n",
      " 0.71051793        nan 0.71913889        nan 0.70160637 0.69476403\n",
      " 0.68871514 0.64662465 0.69564204 0.69596751 0.72040767 0.6522221\n",
      " 0.66530857 0.7125214         nan 0.72185156 0.64232383 0.65403002\n",
      " 0.65391013 0.71411565 0.66938989 0.72491711 0.71449631        nan\n",
      " 0.65147985        nan 0.69751965 0.68401063        nan 0.70397908\n",
      "        nan        nan 0.70277147        nan 0.7259612  0.71479846\n",
      " 0.72041278 0.71313359 0.66642646 0.72446358 0.70938197        nan\n",
      "        nan 0.68378359 0.71547587 0.69306479 0.72277858 0.67903943\n",
      " 0.71638263 0.69046689        nan 0.70488866 0.72324856 0.68115671\n",
      " 0.69827824 0.67068418        nan 0.64533837 0.70121124 0.67332082\n",
      " 0.65507699 0.67527656 0.71378822 0.68992971 0.7041433  0.72153552\n",
      " 0.71569697 0.72317588 0.71234786 0.72595745 0.66806706 0.69488718\n",
      " 0.69617661 0.65240716 0.70285384 0.66951081 0.70121124        nan\n",
      " 0.71756616 0.72031751 0.7081019  0.6387293  0.70829596 0.70293235\n",
      " 0.7137842  0.69962737 0.70277041 0.66251442 0.67498787 0.69744446\n",
      " 0.73441038 0.71523563 0.6941234  0.70790959 0.7318248  0.68101969\n",
      " 0.67761042 0.71765422 0.70149075 0.66062794 0.71115212        nan\n",
      "        nan 0.72470158 0.69883696 0.70274602 0.71600553 0.69449472\n",
      " 0.69751965 0.66954989 0.72023032 0.70905045 0.71986496 0.7086287\n",
      "        nan 0.67527656        nan 0.64266366        nan 0.70272267\n",
      "        nan        nan        nan 0.72049156        nan 0.72207911\n",
      " 0.7145485  0.68429284 0.65263136 0.69883696 0.67850998        nan\n",
      " 0.69428401        nan        nan 0.65966663 0.65357127        nan\n",
      " 0.70293235 0.69832523 0.64390322 0.72051756        nan 0.71800761\n",
      " 0.69944308 0.70001052 0.71576806 0.65604942 0.71852311 0.66797455\n",
      " 0.69488718 0.71194315        nan 0.68844887 0.70226579 0.72055018\n",
      " 0.66951081 0.7149568  0.70253908 0.72720955 0.70714397 0.71439432\n",
      "        nan 0.70167681 0.72885782 0.66870334]\n",
      "  warnings.warn(\n"
     ]
    },
    {
     "name": "stdout",
     "output_type": "stream",
     "text": [
      "Best parameters: {'n_estimators': 100, 'min_samples_split': 4, 'min_samples_leaf': 1, 'max_features': 'log2', 'max_depth': 25, 'bootstrap': False}\n",
      "Best weighted F1 score: 0.734410376492049\n",
      "Weighted F1 score on test set: 0.6992577931716972\n"
     ]
    }
   ],
   "source": [
    "import numpy as np\n",
    "from sklearn.model_selection import RandomizedSearchCV, train_test_split\n",
    "from sklearn.ensemble import RandomForestClassifier\n",
    "from sklearn.metrics import accuracy_score, f1_score\n",
    "\n",
    "\n",
    "X_train, X_test, y_train, y_test = train_test_split(X1, y1, test_size=0.2)\n",
    "\n",
    "# Define the parameter grid to search\n",
    "param_distributions = {\n",
    "    'n_estimators': np.arange(50, 501, 50),\n",
    "    'max_features': ['auto', 'sqrt', 'log2', 0.2, 0.5],\n",
    "    'max_depth': np.arange(5, 51, 5),\n",
    "    'min_samples_split': [2, 4, 8],\n",
    "    'min_samples_leaf': [1, 2, 4],\n",
    "    'bootstrap': [True, False]\n",
    "}\n",
    "\n",
    "# Create a base model\n",
    "rf = RandomForestClassifier(random_state=42)\n",
    "\n",
    "# Perform randomized search with scoring based on f1 weighted\n",
    "random_search = RandomizedSearchCV(estimator=rf, param_distributions=param_distributions, n_iter=400, cv=20, \n",
    "                                   scoring='f1_weighted', verbose=2, random_state=42, n_jobs=-1)\n",
    "\n",
    "# Fit the random search model\n",
    "random_search.fit(X_train, y_train)\n",
    "\n",
    "# Print the best parameters and the best score\n",
    "print(\"Best parameters:\", random_search.best_params_)\n",
    "print(\"Best weighted F1 score:\", random_search.best_score_)\n",
    "\n",
    "# Evaluate the best model on the test set\n",
    "best_model = random_search.best_estimator_\n",
    "y_pred = best_model.predict(X_test)\n",
    "weighted_f1 = f1_score(y_test, y_pred, average='weighted')\n",
    "print(\"Weighted F1 score on test set:\", weighted_f1)\n"
   ]
  },
  {
   "cell_type": "code",
   "execution_count": 140,
   "metadata": {},
   "outputs": [
    {
     "name": "stdout",
     "output_type": "stream",
     "text": [
      "Predictions on test set: [1 0 0 1 0 1 0 0 1 0 0 0 0 1 0 0 0 0 0 0 0 0 0 0 0 0 0 0 1 0 0 0 1 0 1 0 0\n",
      " 1 0 0 0 1 1 0 1 0 0 1 0 1 0 0 1 0 1 0 0 0 1 1 0 0 0 0 0 0 0 0 0 1 0 0 0 0\n",
      " 0 0 0 0 1 0 1 0 1 0 1 0 1 1 0 0 0 0 0 1 0 1 0 0 1 0 0 0 0 0 0 1 0 0 0 0 0\n",
      " 0 1 0 0 1 1 0 0 0 1 0 1 1 1 0 0 0 1 0 0 1 0 0 1 0 0 0 0 0 0 0 0 0 0 0 0 0\n",
      " 1 0 0 1 0 1 1 0 0 0 1 0 0 0 0 0 0 1 1 1 1 0 0 0 1 0 0 1 0 0 0 1 0 0 0 0 1\n",
      " 0 0]\n"
     ]
    }
   ],
   "source": [
    "# Create the Random Forest model with the best parameters\n",
    "best_rf_model = RandomForestClassifier(n_estimators=100,\n",
    "                                       min_samples_split=2,\n",
    "                                       min_samples_leaf=1,\n",
    "                                       max_features='sqrt',\n",
    "                                       max_depth=20,\n",
    "                                       bootstrap=False,\n",
    "                                       random_state=42)\n",
    "\n",
    "# Fit the model on the training data\n",
    "best_rf_model.fit(X_train, y_train)\n",
    "\n",
    "# Make predictions on the test set\n",
    "y_pred_test = best_rf_model.predict(test_e)\n",
    "\n",
    "# Print the predictions\n",
    "print(\"Predictions on test set:\",y_pred_test)"
   ]
  },
  {
   "cell_type": "code",
   "execution_count": 141,
   "metadata": {},
   "outputs": [],
   "source": [
    "c2=pd.DataFrame(y_pred_test)"
   ]
  },
  {
   "cell_type": "code",
   "execution_count": 142,
   "metadata": {},
   "outputs": [
    {
     "data": {
      "text/plain": [
       "0      EMP0521\n",
       "1      EMP0613\n",
       "2      EMP0136\n",
       "3      EMP0351\n",
       "4      EMP0049\n",
       "        ...   \n",
       "182    EMP0401\n",
       "183    EMP0408\n",
       "184    EMP0248\n",
       "185    EMP0148\n",
       "186    EMP0422\n",
       "Name: CandidateID, Length: 187, dtype: object"
      ]
     },
     "execution_count": 142,
     "metadata": {},
     "output_type": "execute_result"
    }
   ],
   "source": [
    "c1"
   ]
  },
  {
   "cell_type": "code",
   "execution_count": 143,
   "metadata": {},
   "outputs": [],
   "source": [
    "c2.columns = ['Performance']\n",
    "s=pd.concat([c1, c2], axis=1)"
   ]
  },
  {
   "cell_type": "code",
   "execution_count": 145,
   "metadata": {},
   "outputs": [],
   "source": [
    "s.to_csv('output7.csv', index=False)"
   ]
  },
  {
   "cell_type": "markdown",
   "metadata": {},
   "source": []
  }
 ],
 "metadata": {
  "kernelspec": {
   "display_name": "base",
   "language": "python",
   "name": "python3"
  },
  "language_info": {
   "codemirror_mode": {
    "name": "ipython",
    "version": 3
   },
   "file_extension": ".py",
   "mimetype": "text/x-python",
   "name": "python",
   "nbconvert_exporter": "python",
   "pygments_lexer": "ipython3",
   "version": "3.12.5"
  }
 },
 "nbformat": 4,
 "nbformat_minor": 2
}
